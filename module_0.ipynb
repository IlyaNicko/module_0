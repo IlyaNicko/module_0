{
 "cells": [
  {
   "cell_type": "code",
   "execution_count": 171,
   "metadata": {
    "scrolled": true
   },
   "outputs": [
    {
     "name": "stdout",
     "output_type": "stream",
     "text": [
      "Вы угадали число 42 за 5 попыток.\n"
     ]
    }
   ],
   "source": [
    "import numpy as np\n",
    "number = np.random.randint(1,101)\n",
    "first_in_range = 0\n",
    "last_in_range = 101\n",
    "\n",
    "def find_predict():\n",
    "    '''Поиск проверяемого числа'''\n",
    "    predict = (last_in_range + first_in_range)//2  \n",
    "    return predict\n",
    "\n",
    "count = 0   # Счетчик попыток\n",
    "while True:\n",
    "    if number > predict:  \n",
    "        count += 1\n",
    "        first_in_range = predict  # Сужение диапазона по нижней границе\n",
    "        predict = find_predict() \n",
    "    elif number < predict:\n",
    "        count += 1\n",
    "        last_in_range = predict   # Сужение диапазона по верхней границе\n",
    "        predict = find_predict() \n",
    "    else:\n",
    "        count+=1\n",
    "        break\n",
    "print (f\"Вы угадали число {number} за {count} попыток.\")    \n",
    "    "
   ]
  },
  {
   "cell_type": "code",
   "execution_count": 127,
   "metadata": {},
   "outputs": [],
   "source": [
    "import numpy as np\n",
    "def game_core(number):\n",
    "    \n",
    "    number = np.random.randint(1,101)\n",
    "    first_in_range = 0\n",
    "    last_in_range = 101\n",
    "    predict = (last_in_range + first_in_range)//2\n",
    "    count = 0   # счетчик попыток\n",
    "    while True:\n",
    "        if number > predict:  \n",
    "            count += 1\n",
    "            first_in_range = predict\n",
    "            predict = (last_in_range + first_in_range)//2\n",
    "        elif number < predict:\n",
    "            count += 1\n",
    "            last_in_range = predict\n",
    "            predict = (last_in_range+first_in_range)//2\n",
    "        else:\n",
    "            count+=1\n",
    "            break\n",
    "    return count    \n",
    "\n",
    "\n",
    "\n",
    "def score_game(game_core):\n",
    "    '''Запускаем игру 1000 раз, чтобы узнать, как быстро игра угадывает число'''\n",
    "    count_ls = []\n",
    "    random_array = np.random.randint(1,101, size=1000)\n",
    "    for number in random_array:\n",
    "        count_ls.append(game_core(number))\n",
    "    score = int(np.mean(count_ls))\n",
    "    \n",
    "    return(f\"Ваш алгоритм угадывает число в среднем за {score} попыток\")\n",
    "    "
   ]
  },
  {
   "cell_type": "code",
   "execution_count": 128,
   "metadata": {},
   "outputs": [
    {
     "data": {
      "text/plain": [
       "'Ваш алгоритм угадывает число в среднем за 5 попыток'"
      ]
     },
     "execution_count": 128,
     "metadata": {},
     "output_type": "execute_result"
    }
   ],
   "source": [
    "import numpy as np\n",
    "\n",
    "score_game(game_core)"
   ]
  }
 ],
 "metadata": {
  "kernelspec": {
   "display_name": "Python 3",
   "language": "python",
   "name": "python3"
  },
  "language_info": {
   "codemirror_mode": {
    "name": "ipython",
    "version": 3
   },
   "file_extension": ".py",
   "mimetype": "text/x-python",
   "name": "python",
   "nbconvert_exporter": "python",
   "pygments_lexer": "ipython3",
   "version": "3.8.3"
  }
 },
 "nbformat": 4,
 "nbformat_minor": 4
}
